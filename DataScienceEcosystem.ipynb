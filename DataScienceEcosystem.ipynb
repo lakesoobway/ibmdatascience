{
 "cells": [
  {
   "cell_type": "markdown",
   "id": "1dd40c87-7464-41ae-9215-289c0cdfab59",
   "metadata": {},
   "source": [
    "# Data Science Tools and Ecosystem"
   ]
  },
  {
   "cell_type": "markdown",
   "id": "ee545f52-1b09-4c4b-941e-8523307ffb73",
   "metadata": {},
   "source": [
    "In this notebook, Data Science Tools and Ecosystem are summarized."
   ]
  },
  {
   "cell_type": "markdown",
   "id": "5fd83a7b-1c0b-4987-9a16-750af6d044b4",
   "metadata": {},
   "source": [
    "**Objectives:**\n",
    "- List popular languages for Data Science.\n",
    "- list common libraries used\n",
    "- list common data science tools\n",
    "- create basic code cells in jupyter\n"
   ]
  },
  {
   "cell_type": "markdown",
   "id": "ccd215e4-af59-4c3f-8fb2-6592963b9c01",
   "metadata": {},
   "source": [
    "Some of the popular languages that Data Scientists use are:\n",
    "1. Python\n",
    "2. R\n",
    "3. Julia\n"
   ]
  },
  {
   "cell_type": "markdown",
   "id": "57f10599-bd1c-4a13-9dc9-1003841028ec",
   "metadata": {},
   "source": [
    "Some of the commonly used libraries used by Data Scientists include:\n",
    "1. Pandas\n",
    "2. ggplot\n",
    "3. leaflet\n",
    "4. seaborn\n"
   ]
  },
  {
   "cell_type": "markdown",
   "id": "3c0ca32d-219f-4754-ae49-ea884a8a6368",
   "metadata": {},
   "source": [
    "|Data Science Tools|\n",
    "|-------|\n",
    "|Jupyter Notebook|\n",
    "|Rstudio|\n",
    "|VS code|"
   ]
  },
  {
   "cell_type": "markdown",
   "id": "1013a8c2-0eb5-4c72-86f0-8922d83bfbd8",
   "metadata": {},
   "source": [
    "### Below are a few examples of evaluating arithmetic expressions in Python\n"
   ]
  },
  {
   "cell_type": "code",
   "execution_count": 1,
   "id": "9fa84969-6272-4160-80bc-53fd6db62916",
   "metadata": {},
   "outputs": [
    {
     "data": {
      "text/plain": [
       "17"
      ]
     },
     "execution_count": 1,
     "metadata": {},
     "output_type": "execute_result"
    }
   ],
   "source": [
    "# This a simple arithmetic expression to mutiply then add integers\n",
    "(3*4)+5"
   ]
  },
  {
   "cell_type": "code",
   "execution_count": 2,
   "id": "875c02ec-f3e2-4420-a48d-226e11fe7e91",
   "metadata": {},
   "outputs": [
    {
     "data": {
      "text/plain": [
       "3.3333333333333335"
      ]
     },
     "execution_count": 2,
     "metadata": {},
     "output_type": "execute_result"
    }
   ],
   "source": [
    "#This will convert 200 minutes to hours by diving by 60.\n",
    "def mintohour(min):\n",
    "    hours = min/60\n",
    "    return hours\n",
    "mintohour(200)\n"
   ]
  },
  {
   "cell_type": "markdown",
   "id": "3758c7e5-6c32-4003-9888-3debbefa05a9",
   "metadata": {},
   "source": [
    "## Author\n",
    "Brendan L."
   ]
  },
  {
   "cell_type": "code",
   "execution_count": null,
   "id": "444f0160-ff19-4bb7-a39e-64f434ba8aea",
   "metadata": {},
   "outputs": [],
   "source": []
  }
 ],
 "metadata": {
  "kernelspec": {
   "display_name": "Python 3 (ipykernel)",
   "language": "python",
   "name": "python3"
  },
  "language_info": {
   "codemirror_mode": {
    "name": "ipython",
    "version": 3
   },
   "file_extension": ".py",
   "mimetype": "text/x-python",
   "name": "python",
   "nbconvert_exporter": "python",
   "pygments_lexer": "ipython3",
   "version": "3.12.8"
  }
 },
 "nbformat": 4,
 "nbformat_minor": 5
}
